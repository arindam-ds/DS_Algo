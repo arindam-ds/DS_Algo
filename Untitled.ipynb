{
 "cells": [
  {
   "cell_type": "code",
   "execution_count": null,
   "metadata": {},
   "outputs": [],
   "source": [
    "def toString(List):\n",
    "    return ''.join(List)\n",
    "\n",
    "def permute(a, l, r):\n",
    "    if l==r:\n",
    "        print(toString(a))\n",
    "    else:\n",
    "        for i in range(l,r+1):\n",
    "            a[l], a[i] = a[i], a[l]\n",
    "            permute(a, l+1, r)\n",
    "            a[l], a[i] = a[i], a[l] # backtrack\n",
    "\n",
    "# Driver program to test the above function\n",
    "string = \"ABC\"\n",
    "n = len(string)\n",
    "a = list(string)\n",
    "permute(a, 0, n-1)"
   ]
  },
  {
   "cell_type": "code",
   "execution_count": 19,
   "metadata": {},
   "outputs": [],
   "source": [
    "#longest-increasing-subsequence\n",
    "nums = [1,3,6,7,9,4,10,5,6]\n",
    "count = [1 for i in nums]\n",
    "for i in range(1, len(nums)):\n",
    "    for j in range(0,i):\n",
    "        if nums[j] < nums[i]:\n",
    "            count[i] = max(count[i], count[j]+1)\n",
    "max(count)"
   ]
  },
  {
   "cell_type": "code",
   "execution_count": null,
   "metadata": {},
   "outputs": [],
   "source": [
    "#max sum subarray\n",
    "def maxSubArray(nums) -> int:\n",
    "    max_so_far = (-10**5)-1\n",
    "    max_ending_here = 0\n",
    "    for i in range(len(nums)):\n",
    "        max_ending_here = max_ending_here + nums[i]\n",
    "        if(max_so_far < max_ending_here):\n",
    "            max_so_far = max_ending_here\n",
    "        if(max_ending_here < 0):\n",
    "            max_ending_here = 0\n",
    "    return max_so_far"
   ]
  },
  {
   "cell_type": "code",
   "execution_count": null,
   "metadata": {},
   "outputs": [],
   "source": [
    "#max sum subsequence\n",
    "int best = 0, sum = 0;\n",
    "for (int k = 0; k < n; k++)\n",
    "    sum = max(array[k],sum+array[k]);\n",
    "    best = max(best,sum);"
   ]
  },
  {
   "cell_type": "code",
   "execution_count": 20,
   "metadata": {},
   "outputs": [],
   "source": [
    "#invert tree\n",
    "if node == None:\n",
    "    return None\n",
    "\n",
    "right = self.invertTree(node.right)\n",
    "left = self.invertTree(node.left)\n",
    "node.left = right\n",
    "node.right = left\n",
    "return node"
   ]
  },
  {
   "cell_type": "code",
   "execution_count": null,
   "metadata": {},
   "outputs": [],
   "source": [
    "#reverse linkedlist\n",
    "def reverseList(self, head: ListNode) -> ListNode:\n",
    "    if head==None:\n",
    "        return None\n",
    "    if head.next==None:\n",
    "        return head\n",
    "\n",
    "    prev_n = None\n",
    "    next_n = None\n",
    "    curr_n = head\n",
    "\n",
    "    while(curr_n is not None):\n",
    "        next_n = curr_n.next\n",
    "        curr_n.next = prev_n\n",
    "        prev_n = curr_n\n",
    "        curr_n = next_n\n",
    "\n",
    "    return prev_n        "
   ]
  },
  {
   "cell_type": "code",
   "execution_count": null,
   "metadata": {},
   "outputs": [],
   "source": [
    "#DFS\n",
    "visited = dict()\n",
    "stack = [1]\n",
    "while len(stack) != 0:\n",
    "    #print(stack)\n",
    "    curr_node = stack.pop(-1)\n",
    "    if curr_node not in visited:\n",
    "        visited[curr_node] = 1\n",
    "        print(curr_node)\n",
    "        for node in graph[curr_node]:\n",
    "            stack.append(node)"
   ]
  },
  {
   "cell_type": "code",
   "execution_count": null,
   "metadata": {},
   "outputs": [],
   "source": [
    "# inorder iterative\n",
    "def inorderIterative(root):\n",
    "    stack = deque()\n",
    "    curr = root\n",
    "    while stack or curr:\n",
    "        if curr:\n",
    "            stack.append(curr)\n",
    "            curr = curr.left\n",
    "        else:\n",
    "            curr = stack.pop()\n",
    "            print(curr.data, end=' ')\n",
    "            curr = curr.right"
   ]
  },
  {
   "cell_type": "code",
   "execution_count": null,
   "metadata": {},
   "outputs": [],
   "source": [
    "def mergeSort(arr):\n",
    "    if len(arr) > 1:\n",
    "        mid = len(arr)//2\n",
    "        L = arr[:mid]\n",
    "        R = arr[mid:]\n",
    "        mergeSort(L)\n",
    "        mergeSort(R)\n",
    "        i = j = k = 0\n",
    "        while i < len(L) and j < len(R):\n",
    "            if L[i] < R[j]:\n",
    "                arr[k] = L[i]\n",
    "                i += 1\n",
    "            else:\n",
    "                arr[k] = R[j]\n",
    "                j += 1\n",
    "            k += 1\n",
    "        while i < len(L):\n",
    "            arr[k] = L[i]\n",
    "            i += 1\n",
    "            k += 1\n",
    "        while j < len(R):\n",
    "            arr[k] = R[j]\n",
    "            j += 1\n",
    "            k += 1"
   ]
  },
  {
   "cell_type": "code",
   "execution_count": null,
   "metadata": {},
   "outputs": [],
   "source": [
    "MAX-HEAPIFY(A, i)\n",
    "    l ← LEFT(i)\n",
    "    r ← RIGHT(i)\n",
    "    if l ≤ heap-size[A] and A[l] > A[i]\n",
    "        then largest ← l\n",
    "    else largest ← i\n",
    "    if r ≤ heap-size[A] and A[r] > A[largest]\n",
    "        then largest ← r\n",
    "    if largest ≠ i\n",
    "        then exchange A[i] ↔ A[largest]\n",
    "        MAX-HEAPIFY(A, largest) "
   ]
  },
  {
   "cell_type": "code",
   "execution_count": 1,
   "metadata": {},
   "outputs": [
    {
     "data": {
      "text/plain": [
       "180"
      ]
     },
     "execution_count": 1,
     "metadata": {},
     "output_type": "execute_result"
    }
   ],
   "source": [
    "bin(180)\n",
    "int('10110100',2)"
   ]
  },
  {
   "cell_type": "code",
   "execution_count": null,
   "metadata": {},
   "outputs": [],
   "source": []
  }
 ],
 "metadata": {
  "kernelspec": {
   "display_name": "Python 3",
   "language": "python",
   "name": "python3"
  },
  "language_info": {
   "codemirror_mode": {
    "name": "ipython",
    "version": 3
   },
   "file_extension": ".py",
   "mimetype": "text/x-python",
   "name": "python",
   "nbconvert_exporter": "python",
   "pygments_lexer": "ipython3",
   "version": "3.7.3"
  }
 },
 "nbformat": 4,
 "nbformat_minor": 2
}
